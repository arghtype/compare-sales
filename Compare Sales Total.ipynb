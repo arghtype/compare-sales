{
 "cells": [
  {
   "cell_type": "markdown",
   "metadata": {},
   "source": [
    "# Part 1: Analyzing total sales"
   ]
  },
  {
   "cell_type": "code",
   "execution_count": 1,
   "metadata": {
    "collapsed": true
   },
   "outputs": [],
   "source": [
    "import pandas as pandas\n",
    "\n",
    "import matplotlib\n",
    "import matplotlib.pyplot as pyplot\n",
    "\n",
    "from datetime import datetime"
   ]
  },
  {
   "cell_type": "code",
   "execution_count": 2,
   "metadata": {
    "collapsed": false
   },
   "outputs": [],
   "source": [
    "data_root = \"D:/downloads/CompetitionPack/data/raw_from_customer/\""
   ]
  },
  {
   "cell_type": "code",
   "execution_count": 3,
   "metadata": {
    "collapsed": false,
    "scrolled": true
   },
   "outputs": [],
   "source": [
    "# Reading sales\n",
    "sales_dir = \"sales/\"\n",
    "sales_file = \"PMU_Weekly_Sales_2014_2015.csv\"\n",
    "#sales_file = \"PMU_Weekly_Sales_2014_2015_sample.csv\"\n",
    "sales_names = [\"TouchPoint_Code\",\"Product_Code\",\"Product\",\"SubBrand_Family\",\"Brand_Family\",\"Week\",\"Volume_Sales\"]\n",
    "sales = pandas.read_csv(data_root + sales_dir + sales_file, header = None, names = sales_names)"
   ]
  },
  {
   "cell_type": "code",
   "execution_count": 4,
   "metadata": {
    "collapsed": false,
    "scrolled": false
   },
   "outputs": [
    {
     "data": {
      "text/html": [
       "<div>\n",
       "<table border=\"1\" class=\"dataframe\">\n",
       "  <thead>\n",
       "    <tr style=\"text-align: right;\">\n",
       "      <th></th>\n",
       "      <th>TouchPoint_Code</th>\n",
       "      <th>Brand_Family</th>\n",
       "      <th>Week</th>\n",
       "      <th>Volume_Sales</th>\n",
       "    </tr>\n",
       "  </thead>\n",
       "  <tbody>\n",
       "    <tr>\n",
       "      <th>0</th>\n",
       "      <td>﻿10000017</td>\n",
       "      <td>President</td>\n",
       "      <td>2014-01-06</td>\n",
       "      <td>200.0</td>\n",
       "    </tr>\n",
       "  </tbody>\n",
       "</table>\n",
       "</div>"
      ],
      "text/plain": [
       "  TouchPoint_Code Brand_Family        Week  Volume_Sales\n",
       "0       ﻿10000017    President  2014-01-06         200.0"
      ]
     },
     "execution_count": 4,
     "metadata": {},
     "output_type": "execute_result"
    }
   ],
   "source": [
    "sales_interesting_columns = [\"TouchPoint_Code\",\"Brand_Family\",\"Week\",\"Volume_Sales\"]\n",
    "sales = sales[sales_interesting_columns]\n",
    "sales.head(1)"
   ]
  },
  {
   "cell_type": "code",
   "execution_count": 5,
   "metadata": {
    "collapsed": false
   },
   "outputs": [
    {
     "data": {
      "text/plain": [
       "117890892"
      ]
     },
     "execution_count": 5,
     "metadata": {},
     "output_type": "execute_result"
    }
   ],
   "source": [
    "sales.size"
   ]
  },
  {
   "cell_type": "code",
   "execution_count": 6,
   "metadata": {
    "collapsed": false
   },
   "outputs": [],
   "source": [
    "#filtering negative sales\n",
    "sales = sales.query(\"Volume_Sales > 0\")"
   ]
  },
  {
   "cell_type": "code",
   "execution_count": 7,
   "metadata": {
    "collapsed": false,
    "scrolled": true
   },
   "outputs": [
    {
     "data": {
      "text/plain": [
       "117819424"
      ]
     },
     "execution_count": 7,
     "metadata": {},
     "output_type": "execute_result"
    }
   ],
   "source": [
    "sales.size"
   ]
  },
  {
   "cell_type": "code",
   "execution_count": 8,
   "metadata": {
    "collapsed": false
   },
   "outputs": [],
   "source": [
    "brand_sales_sum = sales.groupby(\"Brand_Family\")[\"Volume_Sales\"].sum()"
   ]
  },
  {
   "cell_type": "code",
   "execution_count": 9,
   "metadata": {
    "collapsed": false
   },
   "outputs": [
    {
     "name": "stdout",
     "output_type": "stream",
     "text": [
      "Brand_Family\n",
      "April           7.935396e+07\n",
      "Bond Street     7.275151e+09\n",
      "Chesterfield    2.460652e+09\n",
      "Dubliss         6.160000e+03\n",
      "Kosmos          2.764580e+07\n",
      "L&M             1.840235e+09\n",
      "Marlboro        3.203776e+09\n",
      "Muratti         2.795397e+08\n",
      "NEXT/DUBLISS    3.792111e+08\n",
      "Optima          5.111350e+08\n",
      "Parliament      2.371590e+09\n",
      "President       5.378048e+09\n",
      "Vatra           3.384601e+08\n",
      "Virginia S      3.040000e+03\n",
      "Name: Volume_Sales, dtype: float64\n"
     ]
    }
   ],
   "source": [
    "print(brand_sales_sum)"
   ]
  },
  {
   "cell_type": "markdown",
   "metadata": {},
   "source": [
    "## Diagram #1 - Total Sales by Brands"
   ]
  },
  {
   "cell_type": "code",
   "execution_count": 10,
   "metadata": {
    "collapsed": false,
    "scrolled": true
   },
   "outputs": [
    {
     "data": {
      "text/plain": [
       "<matplotlib.axes._subplots.AxesSubplot at 0x1e3b5798d68>"
      ]
     },
     "execution_count": 10,
     "metadata": {},
     "output_type": "execute_result"
    },
    {
     "data": {
      "image/png": "[encoded data removed]",
      "text/plain": [
       "<matplotlib.figure.Figure at 0x1e3bf242d68>"
      ]
     },
     "metadata": {},
     "output_type": "display_data"
    }
   ],
   "source": [
    "%matplotlib inline\n",
    "brand_sales_sum.plot.bar()"
   ]
  },
  {
   "cell_type": "code",
   "execution_count": 11,
   "metadata": {
    "collapsed": false
   },
   "outputs": [
    {
     "data": {
      "text/html": [
       "<div>\n",
       "<table border=\"1\" class=\"dataframe\">\n",
       "  <thead>\n",
       "    <tr style=\"text-align: right;\">\n",
       "      <th></th>\n",
       "      <th>TouchPoint_Code</th>\n",
       "      <th>Brand_Family</th>\n",
       "      <th>Week</th>\n",
       "      <th>Volume_Sales</th>\n",
       "      <th>Year_Month</th>\n",
       "    </tr>\n",
       "  </thead>\n",
       "  <tbody>\n",
       "    <tr>\n",
       "      <th>0</th>\n",
       "      <td>﻿10000017</td>\n",
       "      <td>President</td>\n",
       "      <td>2014-01-06</td>\n",
       "      <td>200.0</td>\n",
       "      <td>2014-01</td>\n",
       "    </tr>\n",
       "  </tbody>\n",
       "</table>\n",
       "</div>"
      ],
      "text/plain": [
       "  TouchPoint_Code Brand_Family        Week  Volume_Sales Year_Month\n",
       "0       ﻿10000017    President  2014-01-06         200.0    2014-01"
      ]
     },
     "execution_count": 11,
     "metadata": {},
     "output_type": "execute_result"
    }
   ],
   "source": [
    "year_month_series = sales['Week'].apply(lambda x: x[:-3]) # substring from \"%Y-%m-%d\" to \"%Y-%m\"\n",
    "sales_with_monthyear = sales.assign(Year_Month = year_month_series.values)\n",
    "sales_with_monthyear.head(1)"
   ]
  },
  {
   "cell_type": "markdown",
   "metadata": {},
   "source": [
    "## Diagram #2 - Total Sales by Months"
   ]
  },
  {
   "cell_type": "code",
   "execution_count": 12,
   "metadata": {
    "collapsed": false
   },
   "outputs": [
    {
     "data": {
      "text/plain": [
       "<matplotlib.axes._subplots.AxesSubplot at 0x1e40921b9e8>"
      ]
     },
     "execution_count": 12,
     "metadata": {},
     "output_type": "execute_result"
    },
    {
     "data": {
      "image/png": "[encoded data removed]",
      "text/plain": [
       "<matplotlib.figure.Figure at 0x1e3a02d1780>"
      ]
     },
     "metadata": {},
     "output_type": "display_data"
    }
   ],
   "source": [
    "monthly_sales_sum = sales_with_monthyear.groupby(\"Year_Month\")[\"Volume_Sales\"].sum()\n",
    "monthly_sales_sum.plot.bar()"
   ]
  },
  {
   "cell_type": "code",
   "execution_count": 13,
   "metadata": {
    "collapsed": false
   },
   "outputs": [],
   "source": [
    "#Loading data with POS\n",
    "pos_dir=\"POS/\"\n",
    "#There are 2 files with POS data\n",
    "pos_file1=\"Ret UNI 2015 02 26 closed POS with new columns.xlsx\"\n",
    "pos_file2=\"Ret UNI 2015 02 27 with new columns.xlsx\""
   ]
  },
  {
   "cell_type": "code",
   "execution_count": 14,
   "metadata": {
    "collapsed": false
   },
   "outputs": [
    {
     "data": {
      "text/plain": [
       "1300972"
      ]
     },
     "execution_count": 14,
     "metadata": {},
     "output_type": "execute_result"
    }
   ],
   "source": [
    "POSes1 = pandas.read_excel(data_root + pos_dir + pos_file1, header = 1)\n",
    "POSes1.size"
   ]
  },
  {
   "cell_type": "code",
   "execution_count": 15,
   "metadata": {
    "collapsed": false
   },
   "outputs": [
    {
     "data": {
      "text/plain": [
       "3582112"
      ]
     },
     "execution_count": 15,
     "metadata": {},
     "output_type": "execute_result"
    }
   ],
   "source": [
    "POSes2 = pandas.read_excel(data_root + pos_dir + pos_file2, header = 1)\n",
    "POSes2.size"
   ]
  },
  {
   "cell_type": "code",
   "execution_count": 16,
   "metadata": {
    "collapsed": false
   },
   "outputs": [
    {
     "name": "stdout",
     "output_type": "stream",
     "text": [
      "True\n"
     ]
    }
   ],
   "source": [
    "# Filtering only columns, which will be used later\n",
    "columns_interesting = [\"Customer_Code\", \"Trade_Category\",\"Area\"]\n",
    "POSes1_filtered = POSes1[columns_interesting]\n",
    "POSes2_filtered = POSes1[columns_interesting]\n",
    "# Concatenating two DFs\n",
    "POSes_interesting = pandas.concat([POSes1_filtered, POSes2_filtered])\n",
    "# Check if concatenation was correct\n",
    "print(POSes_interesting.size == POSes1_filtered.size + POSes2_filtered.size)"
   ]
  },
  {
   "cell_type": "code",
   "execution_count": 17,
   "metadata": {
    "collapsed": false
   },
   "outputs": [
    {
     "data": {
      "text/html": [
       "<div>\n",
       "<table border=\"1\" class=\"dataframe\">\n",
       "  <thead>\n",
       "    <tr style=\"text-align: right;\">\n",
       "      <th></th>\n",
       "      <th>Customer_Code</th>\n",
       "      <th>Trade_Category</th>\n",
       "      <th>Area</th>\n",
       "    </tr>\n",
       "  </thead>\n",
       "  <tbody>\n",
       "    <tr>\n",
       "      <th>0</th>\n",
       "      <td>80100011</td>\n",
       "      <td>Kiosk</td>\n",
       "      <td>SOUTH</td>\n",
       "    </tr>\n",
       "  </tbody>\n",
       "</table>\n",
       "</div>"
      ],
      "text/plain": [
       "  Customer_Code Trade_Category   Area\n",
       "0      80100011          Kiosk  SOUTH"
      ]
     },
     "execution_count": 17,
     "metadata": {},
     "output_type": "execute_result"
    }
   ],
   "source": [
    "POSes_interesting.head(1)"
   ]
  },
  {
   "cell_type": "code",
   "execution_count": 18,
   "metadata": {
    "collapsed": false
   },
   "outputs": [
    {
     "data": {
      "text/html": [
       "<div>\n",
       "<table border=\"1\" class=\"dataframe\">\n",
       "  <thead>\n",
       "    <tr style=\"text-align: right;\">\n",
       "      <th></th>\n",
       "      <th>TouchPoint_Code</th>\n",
       "      <th>Volume_Sales</th>\n",
       "    </tr>\n",
       "  </thead>\n",
       "  <tbody>\n",
       "    <tr>\n",
       "      <th>0</th>\n",
       "      <td>﻿10000017</td>\n",
       "      <td>200.0</td>\n",
       "    </tr>\n",
       "  </tbody>\n",
       "</table>\n",
       "</div>"
      ],
      "text/plain": [
       "  TouchPoint_Code  Volume_Sales\n",
       "0       ﻿10000017         200.0"
      ]
     },
     "execution_count": 18,
     "metadata": {},
     "output_type": "execute_result"
    }
   ],
   "source": [
    "sales_interesting = sales[[\"TouchPoint_Code\", \"Volume_Sales\"]]\n",
    "sales_interesting.head(1)"
   ]
  },
  {
   "cell_type": "code",
   "execution_count": 19,
   "metadata": {
    "collapsed": false
   },
   "outputs": [
    {
     "data": {
      "text/html": [
       "<div>\n",
       "<table border=\"1\" class=\"dataframe\">\n",
       "  <thead>\n",
       "    <tr style=\"text-align: right;\">\n",
       "      <th></th>\n",
       "      <th>TouchPoint_Code</th>\n",
       "      <th>Volume_Sales</th>\n",
       "      <th>Customer_Code</th>\n",
       "      <th>Trade_Category</th>\n",
       "      <th>Area</th>\n",
       "    </tr>\n",
       "  </thead>\n",
       "  <tbody>\n",
       "    <tr>\n",
       "      <th>0</th>\n",
       "      <td>10000097</td>\n",
       "      <td>1200.0</td>\n",
       "      <td>10000097</td>\n",
       "      <td>Grocery</td>\n",
       "      <td>EAST</td>\n",
       "    </tr>\n",
       "  </tbody>\n",
       "</table>\n",
       "</div>"
      ],
      "text/plain": [
       "  TouchPoint_Code  Volume_Sales Customer_Code Trade_Category  Area\n",
       "0        10000097        1200.0      10000097        Grocery  EAST"
      ]
     },
     "execution_count": 19,
     "metadata": {},
     "output_type": "execute_result"
    }
   ],
   "source": [
    "sales_in_poses = pandas.merge(sales_interesting, POSes_interesting, \n",
    "                              left_on=\"TouchPoint_Code\", right_on=\"Customer_Code\", how='inner')\n",
    "sales_in_poses.head(1)"
   ]
  },
  {
   "cell_type": "markdown",
   "metadata": {},
   "source": [
    "## Diagram #3 - Total Sales by POS Categories"
   ]
  },
  {
   "cell_type": "code",
   "execution_count": 20,
   "metadata": {
    "collapsed": false
   },
   "outputs": [
    {
     "data": {
      "text/plain": [
       "<matplotlib.axes._subplots.AxesSubplot at 0x1e409565160>"
      ]
     },
     "execution_count": 20,
     "metadata": {},
     "output_type": "execute_result"
    },
    {
     "data": {
      "image/png": "[encoded data removed]",
      "text/plain": [
       "<matplotlib.figure.Figure at 0x1e4099d8c50>"
      ]
     },
     "metadata": {},
     "output_type": "display_data"
    }
   ],
   "source": [
    "category_sales_sum = sales_in_poses.groupby(\"Trade_Category\")[\"Volume_Sales\"].sum()\n",
    "category_sales_sum.plot.bar()"
   ]
  },
  {
   "cell_type": "markdown",
   "metadata": {},
   "source": [
    "## Diagram #4 - Total Sales by Area"
   ]
  },
  {
   "cell_type": "code",
   "execution_count": 21,
   "metadata": {
    "collapsed": false
   },
   "outputs": [
    {
     "data": {
      "text/plain": [
       "<matplotlib.axes._subplots.AxesSubplot at 0x1e40928ba58>"
      ]
     },
     "execution_count": 21,
     "metadata": {},
     "output_type": "execute_result"
    },
    {
     "data": {
      "image/png": "[encoded data removed]",
      "text/plain": [
       "<matplotlib.figure.Figure at 0x1e40eb0a748>"
      ]
     },
     "metadata": {},
     "output_type": "display_data"
    }
   ],
   "source": [
    "area_sales_sum = sales_in_poses.groupby(\"Area\")[\"Volume_Sales\"].sum()\n",
    "area_sales_sum.plot.bar()"
   ]
  },
  {
   "cell_type": "code",
   "execution_count": 22,
   "metadata": {
    "collapsed": false
   },
   "outputs": [
    {
     "data": {
      "text/html": [
       "<div>\n",
       "<table border=\"1\" class=\"dataframe\">\n",
       "  <thead>\n",
       "    <tr style=\"text-align: right;\">\n",
       "      <th></th>\n",
       "      <th>Month</th>\n",
       "      <th>Unemployment I</th>\n",
       "      <th>Unemployment II</th>\n",
       "      <th>GDP_per_capita</th>\n",
       "      <th>Consumer_ Price_Index I</th>\n",
       "      <th>Consumer_ Price_Index II</th>\n",
       "      <th>Petrol_Price I</th>\n",
       "      <th>Holiday_1</th>\n",
       "      <th>Industry_Total</th>\n",
       "      <th>PMU</th>\n",
       "      <th>Consumer confidence index (16+ y.o)</th>\n",
       "      <th>Exchange rate I</th>\n",
       "      <th>Exchange rate II</th>\n",
       "      <th>Price of average pack, UAH</th>\n",
       "      <th>Smokers # (excl Crimea)</th>\n",
       "      <th>Population (excl. Crimea)</th>\n",
       "      <th>Total Industry Seasonality, excl. Crimea</th>\n",
       "      <th>PMU Seasonality, excl. Crimea</th>\n",
       "      <th>Industry_Total Smoothed</th>\n",
       "    </tr>\n",
       "  </thead>\n",
       "  <tbody>\n",
       "    <tr>\n",
       "      <th>NaN</th>\n",
       "      <td>2012-01-01 04:49:44</td>\n",
       "      <td>9.1</td>\n",
       "      <td>1.9</td>\n",
       "      <td>2139.46</td>\n",
       "      <td>100.2</td>\n",
       "      <td>103.7</td>\n",
       "      <td>10.32</td>\n",
       "      <td>1.0</td>\n",
       "      <td>5558.16766</td>\n",
       "      <td>1647.78958</td>\n",
       "      <td>82.29</td>\n",
       "      <td>8.0351</td>\n",
       "      <td>8.053</td>\n",
       "      <td>8.5</td>\n",
       "      <td>9.6</td>\n",
       "      <td>43.4</td>\n",
       "      <td>0.847294</td>\n",
       "      <td>0.832023</td>\n",
       "      <td>5630.657199</td>\n",
       "    </tr>\n",
       "  </tbody>\n",
       "</table>\n",
       "</div>"
      ],
      "text/plain": [
       "                  Month Unemployment I  Unemployment II GDP_per_capita  \\\n",
       "NaN 2012-01-01 04:49:44            9.1              1.9        2139.46   \n",
       "\n",
       "     Consumer_ Price_Index I  Consumer_ Price_Index II Petrol_Price I  \\\n",
       "NaN                    100.2                     103.7          10.32   \n",
       "\n",
       "     Holiday_1  Industry_Total         PMU  \\\n",
       "NaN        1.0      5558.16766  1647.78958   \n",
       "\n",
       "     Consumer confidence index (16+ y.o)  Exchange rate I  Exchange rate II  \\\n",
       "NaN                                82.29           8.0351             8.053   \n",
       "\n",
       "     Price of average pack, UAH Smokers # (excl Crimea)  \\\n",
       "NaN                         8.5                     9.6   \n",
       "\n",
       "     Population (excl. Crimea)  Total Industry Seasonality, excl. Crimea  \\\n",
       "NaN                       43.4                                  0.847294   \n",
       "\n",
       "     PMU Seasonality, excl. Crimea  Industry_Total Smoothed  \n",
       "NaN                       0.832023              5630.657199  "
      ]
     },
     "execution_count": 22,
     "metadata": {},
     "output_type": "execute_result"
    }
   ],
   "source": [
    "#Loading Macro Economics Data\n",
    "external_dir=\"external/\"\n",
    "external_file=\"External_Factors 2012-2014.xlsx\"\n",
    "#Columns of interest - [\"Customer_Code\", \"Trade_Category\",\"Area\"]\n",
    "\n",
    "external_data = pandas.read_excel(data_root + external_dir + external_file, header = 0)\n",
    "#external_data_interesting_columns = [\"Month\", \"Unemployment I\", \"GDP_per_capita\", \"Petrol_Price I\", \"Price of average pack, UAH\"]\n",
    "#external_data = external_data[external_data_interesting_columns]\n",
    "external_data.head(1)"
   ]
  },
  {
   "cell_type": "code",
   "execution_count": 23,
   "metadata": {
    "collapsed": false
   },
   "outputs": [
    {
     "data": {
      "text/html": [
       "<div>\n",
       "<table border=\"1\" class=\"dataframe\">\n",
       "  <thead>\n",
       "    <tr style=\"text-align: right;\">\n",
       "      <th></th>\n",
       "      <th>Month</th>\n",
       "      <th>Unemployment I</th>\n",
       "      <th>GDP_per_capita</th>\n",
       "      <th>Petrol_Price I</th>\n",
       "      <th>Price of average pack, UAH</th>\n",
       "    </tr>\n",
       "  </thead>\n",
       "  <tbody>\n",
       "    <tr>\n",
       "      <th>NaN</th>\n",
       "      <td>2012-01-01 04:49:44</td>\n",
       "      <td>9.1</td>\n",
       "      <td>2139.46</td>\n",
       "      <td>10.32</td>\n",
       "      <td>8.5</td>\n",
       "    </tr>\n",
       "  </tbody>\n",
       "</table>\n",
       "</div>"
      ],
      "text/plain": [
       "                  Month Unemployment I GDP_per_capita Petrol_Price I  \\\n",
       "NaN 2012-01-01 04:49:44            9.1        2139.46          10.32   \n",
       "\n",
       "     Price of average pack, UAH  \n",
       "NaN                         8.5  "
      ]
     },
     "execution_count": 23,
     "metadata": {},
     "output_type": "execute_result"
    }
   ],
   "source": [
    "external_data_interesting_columns = [\"Month\", \"Unemployment I\", \"GDP_per_capita\", \"Petrol_Price I\", \"Price of average pack, UAH\"]\n",
    "external_data = external_data[external_data_interesting_columns]\n",
    "external_data.head(1)"
   ]
  },
  {
   "cell_type": "code",
   "execution_count": 24,
   "metadata": {
    "collapsed": false
   },
   "outputs": [],
   "source": [
    "# Filtering only 2014 year\n",
    "external_data = external_data.query(\"Month > datetime(2013, 12, 31)\").query(\"Month < datetime(2015, 1, 1)\")"
   ]
  },
  {
   "cell_type": "code",
   "execution_count": 25,
   "metadata": {
    "collapsed": false
   },
   "outputs": [
    {
     "data": {
      "text/html": [
       "<div>\n",
       "<table border=\"1\" class=\"dataframe\">\n",
       "  <thead>\n",
       "    <tr style=\"text-align: right;\">\n",
       "      <th></th>\n",
       "      <th>Month</th>\n",
       "      <th>Unemployment I</th>\n",
       "      <th>GDP_per_capita</th>\n",
       "      <th>Petrol_Price I</th>\n",
       "      <th>Price of average pack, UAH</th>\n",
       "    </tr>\n",
       "  </thead>\n",
       "  <tbody>\n",
       "    <tr>\n",
       "      <th>NaN</th>\n",
       "      <td>2014-01</td>\n",
       "      <td>9.4</td>\n",
       "      <td>2315.37</td>\n",
       "      <td>10.85</td>\n",
       "      <td>11.1</td>\n",
       "    </tr>\n",
       "  </tbody>\n",
       "</table>\n",
       "</div>"
      ],
      "text/plain": [
       "       Month Unemployment I GDP_per_capita Petrol_Price I  \\\n",
       "NaN  2014-01            9.4        2315.37          10.85   \n",
       "\n",
       "     Price of average pack, UAH  \n",
       "NaN                        11.1  "
      ]
     },
     "execution_count": 25,
     "metadata": {},
     "output_type": "execute_result"
    }
   ],
   "source": [
    "cropped_month = external_data['Month'].apply(lambda x: x.strftime(\"%Y-%m\"))\n",
    "external_data = external_data.assign(Month = cropped_month.values)\n",
    "external_data.head(1)"
   ]
  },
  {
   "cell_type": "code",
   "execution_count": 26,
   "metadata": {
    "collapsed": false
   },
   "outputs": [
    {
     "data": {
      "text/html": [
       "<div>\n",
       "<table border=\"1\" class=\"dataframe\">\n",
       "  <thead>\n",
       "    <tr style=\"text-align: right;\">\n",
       "      <th></th>\n",
       "      <th>Month</th>\n",
       "      <th>Volume_Sales</th>\n",
       "    </tr>\n",
       "  </thead>\n",
       "  <tbody>\n",
       "    <tr>\n",
       "      <th>0</th>\n",
       "      <td>2014-01</td>\n",
       "      <td>1.572549e+09</td>\n",
       "    </tr>\n",
       "    <tr>\n",
       "      <th>1</th>\n",
       "      <td>2014-02</td>\n",
       "      <td>1.577372e+09</td>\n",
       "    </tr>\n",
       "    <tr>\n",
       "      <th>2</th>\n",
       "      <td>2014-03</td>\n",
       "      <td>2.229797e+09</td>\n",
       "    </tr>\n",
       "  </tbody>\n",
       "</table>\n",
       "</div>"
      ],
      "text/plain": [
       "     Month  Volume_Sales\n",
       "0  2014-01  1.572549e+09\n",
       "1  2014-02  1.577372e+09\n",
       "2  2014-03  2.229797e+09"
      ]
     },
     "execution_count": 26,
     "metadata": {},
     "output_type": "execute_result"
    }
   ],
   "source": [
    "# Converting monthly_sales_sum to data frame\n",
    "monthly_sales_sum = monthly_sales_sum.to_frame().reset_index()\n",
    "monthly_sales_sum.columns = ['Month', 'Volume_Sales']\n",
    "monthly_sales_sum.head(3)"
   ]
  },
  {
   "cell_type": "code",
   "execution_count": 27,
   "metadata": {
    "collapsed": false
   },
   "outputs": [
    {
     "data": {
      "text/html": [
       "<div>\n",
       "<table border=\"1\" class=\"dataframe\">\n",
       "  <thead>\n",
       "    <tr style=\"text-align: right;\">\n",
       "      <th></th>\n",
       "      <th>Month</th>\n",
       "      <th>Volume_Sales</th>\n",
       "      <th>Unemployment I</th>\n",
       "      <th>GDP_per_capita</th>\n",
       "      <th>Petrol_Price I</th>\n",
       "      <th>Price of average pack, UAH</th>\n",
       "    </tr>\n",
       "  </thead>\n",
       "  <tbody>\n",
       "    <tr>\n",
       "      <th>0</th>\n",
       "      <td>2014-01</td>\n",
       "      <td>1.572549e+09</td>\n",
       "      <td>9.4</td>\n",
       "      <td>2315.37</td>\n",
       "      <td>10.85</td>\n",
       "      <td>11.1</td>\n",
       "    </tr>\n",
       "    <tr>\n",
       "      <th>1</th>\n",
       "      <td>2014-02</td>\n",
       "      <td>1.577372e+09</td>\n",
       "      <td>9.4</td>\n",
       "      <td>2315.37</td>\n",
       "      <td>11.05</td>\n",
       "      <td>10.8</td>\n",
       "    </tr>\n",
       "    <tr>\n",
       "      <th>2</th>\n",
       "      <td>2014-03</td>\n",
       "      <td>2.229797e+09</td>\n",
       "      <td>9.4</td>\n",
       "      <td>2315.37</td>\n",
       "      <td>12.3</td>\n",
       "      <td>10.9</td>\n",
       "    </tr>\n",
       "    <tr>\n",
       "      <th>3</th>\n",
       "      <td>2014-04</td>\n",
       "      <td>1.910717e+09</td>\n",
       "      <td>9</td>\n",
       "      <td>2735.35</td>\n",
       "      <td>14.25</td>\n",
       "      <td>11.1</td>\n",
       "    </tr>\n",
       "    <tr>\n",
       "      <th>4</th>\n",
       "      <td>2014-05</td>\n",
       "      <td>1.767462e+09</td>\n",
       "      <td>9</td>\n",
       "      <td>2735.35</td>\n",
       "      <td>15.05</td>\n",
       "      <td>11.0</td>\n",
       "    </tr>\n",
       "    <tr>\n",
       "      <th>5</th>\n",
       "      <td>2014-06</td>\n",
       "      <td>2.299966e+09</td>\n",
       "      <td>9</td>\n",
       "      <td>2735.35</td>\n",
       "      <td>15.05</td>\n",
       "      <td>11.1</td>\n",
       "    </tr>\n",
       "    <tr>\n",
       "      <th>6</th>\n",
       "      <td>2014-07</td>\n",
       "      <td>1.840678e+09</td>\n",
       "      <td>9.3</td>\n",
       "      <td>3141.82</td>\n",
       "      <td>15.1</td>\n",
       "      <td>11.3</td>\n",
       "    </tr>\n",
       "    <tr>\n",
       "      <th>7</th>\n",
       "      <td>2014-08</td>\n",
       "      <td>2.001193e+09</td>\n",
       "      <td>9.3</td>\n",
       "      <td>3141.82</td>\n",
       "      <td>15.98</td>\n",
       "      <td>11.9</td>\n",
       "    </tr>\n",
       "    <tr>\n",
       "      <th>8</th>\n",
       "      <td>2014-09</td>\n",
       "      <td>2.165231e+09</td>\n",
       "      <td>9.3</td>\n",
       "      <td>3141.82</td>\n",
       "      <td>16.95</td>\n",
       "      <td>12.2</td>\n",
       "    </tr>\n",
       "    <tr>\n",
       "      <th>9</th>\n",
       "      <td>2014-10</td>\n",
       "      <td>1.691092e+09</td>\n",
       "      <td>9.39785</td>\n",
       "      <td>3144.59</td>\n",
       "      <td>16.4</td>\n",
       "      <td>12.4</td>\n",
       "    </tr>\n",
       "    <tr>\n",
       "      <th>10</th>\n",
       "      <td>2014-11</td>\n",
       "      <td>1.617661e+09</td>\n",
       "      <td>9.37493</td>\n",
       "      <td>3140.67</td>\n",
       "      <td>16.7</td>\n",
       "      <td>13.0</td>\n",
       "    </tr>\n",
       "    <tr>\n",
       "      <th>11</th>\n",
       "      <td>2014-12</td>\n",
       "      <td>1.823681e+09</td>\n",
       "      <td>9.33064</td>\n",
       "      <td>3136.76</td>\n",
       "      <td>17</td>\n",
       "      <td>13.2</td>\n",
       "    </tr>\n",
       "  </tbody>\n",
       "</table>\n",
       "</div>"
      ],
      "text/plain": [
       "      Month  Volume_Sales Unemployment I GDP_per_capita Petrol_Price I  \\\n",
       "0   2014-01  1.572549e+09            9.4        2315.37          10.85   \n",
       "1   2014-02  1.577372e+09            9.4        2315.37          11.05   \n",
       "2   2014-03  2.229797e+09            9.4        2315.37           12.3   \n",
       "3   2014-04  1.910717e+09              9        2735.35          14.25   \n",
       "4   2014-05  1.767462e+09              9        2735.35          15.05   \n",
       "5   2014-06  2.299966e+09              9        2735.35          15.05   \n",
       "6   2014-07  1.840678e+09            9.3        3141.82           15.1   \n",
       "7   2014-08  2.001193e+09            9.3        3141.82          15.98   \n",
       "8   2014-09  2.165231e+09            9.3        3141.82          16.95   \n",
       "9   2014-10  1.691092e+09        9.39785        3144.59           16.4   \n",
       "10  2014-11  1.617661e+09        9.37493        3140.67           16.7   \n",
       "11  2014-12  1.823681e+09        9.33064        3136.76             17   \n",
       "\n",
       "    Price of average pack, UAH  \n",
       "0                         11.1  \n",
       "1                         10.8  \n",
       "2                         10.9  \n",
       "3                         11.1  \n",
       "4                         11.0  \n",
       "5                         11.1  \n",
       "6                         11.3  \n",
       "7                         11.9  \n",
       "8                         12.2  \n",
       "9                         12.4  \n",
       "10                        13.0  \n",
       "11                        13.2  "
      ]
     },
     "execution_count": 27,
     "metadata": {},
     "output_type": "execute_result"
    }
   ],
   "source": [
    "monthly_sales_with_external = pandas.merge(monthly_sales_sum, external_data, \n",
    "                              left_on=\"Month\", right_on=\"Month\", how='inner')\n",
    "# We are expecting data for every month in 2014\n",
    "monthly_sales_with_external.head(12)"
   ]
  },
  {
   "cell_type": "code",
   "execution_count": 28,
   "metadata": {
    "collapsed": true
   },
   "outputs": [],
   "source": [
    "# simple function for normalizing values.\n",
    "def normalize(df, columns):\n",
    "    result = df.copy()\n",
    "    for column in columns:\n",
    "        max_value = df[column].max()\n",
    "        min_value = df[column].min()\n",
    "        result[column] = (df[column] - min_value) / (max_value - min_value)\n",
    "    return result"
   ]
  },
  {
   "cell_type": "code",
   "execution_count": 29,
   "metadata": {
    "collapsed": false,
    "scrolled": true
   },
   "outputs": [
    {
     "data": {
      "text/html": [
       "<div>\n",
       "<table border=\"1\" class=\"dataframe\">\n",
       "  <thead>\n",
       "    <tr style=\"text-align: right;\">\n",
       "      <th></th>\n",
       "      <th>Month</th>\n",
       "      <th>Volume_Sales</th>\n",
       "      <th>Unemployment I</th>\n",
       "      <th>GDP_per_capita</th>\n",
       "      <th>Petrol_Price I</th>\n",
       "      <th>Price of average pack, UAH</th>\n",
       "    </tr>\n",
       "  </thead>\n",
       "  <tbody>\n",
       "    <tr>\n",
       "      <th>0</th>\n",
       "      <td>2014-01</td>\n",
       "      <td>0.000000</td>\n",
       "      <td>1</td>\n",
       "      <td>0</td>\n",
       "      <td>0</td>\n",
       "      <td>0.125000</td>\n",
       "    </tr>\n",
       "    <tr>\n",
       "      <th>1</th>\n",
       "      <td>2014-02</td>\n",
       "      <td>0.006631</td>\n",
       "      <td>1</td>\n",
       "      <td>0</td>\n",
       "      <td>0.0325203</td>\n",
       "      <td>0.000000</td>\n",
       "    </tr>\n",
       "    <tr>\n",
       "      <th>2</th>\n",
       "      <td>2014-03</td>\n",
       "      <td>0.903537</td>\n",
       "      <td>1</td>\n",
       "      <td>0</td>\n",
       "      <td>0.235772</td>\n",
       "      <td>0.041667</td>\n",
       "    </tr>\n",
       "  </tbody>\n",
       "</table>\n",
       "</div>"
      ],
      "text/plain": [
       "     Month  Volume_Sales Unemployment I GDP_per_capita Petrol_Price I  \\\n",
       "0  2014-01      0.000000              1              0              0   \n",
       "1  2014-02      0.006631              1              0      0.0325203   \n",
       "2  2014-03      0.903537              1              0       0.235772   \n",
       "\n",
       "   Price of average pack, UAH  \n",
       "0                    0.125000  \n",
       "1                    0.000000  \n",
       "2                    0.041667  "
      ]
     },
     "execution_count": 29,
     "metadata": {},
     "output_type": "execute_result"
    }
   ],
   "source": [
    "normalize_columns = [\"Volume_Sales\",\"Unemployment I\",\"GDP_per_capita\",\"Petrol_Price I\",\"Price of average pack, UAH\"]\n",
    "monthly_sales_external_norm = normalize(monthly_sales_with_external, normalize_columns)\n",
    "monthly_sales_external_norm.head(3)"
   ]
  },
  {
   "cell_type": "markdown",
   "metadata": {},
   "source": [
    "## Graphic #5 - Sales and Macroeconomics data (normalized)\n",
    "GDP / Petrol Prices / Pack Prices showed stable growth, while sales have some increases and decreases. Seems like no correlation.\n"
   ]
  },
  {
   "cell_type": "code",
   "execution_count": 30,
   "metadata": {
    "collapsed": false
   },
   "outputs": [
    {
     "data": {
      "text/plain": [
       "<matplotlib.axes._subplots.AxesSubplot at 0x1e40d47e2b0>"
      ]
     },
     "execution_count": 30,
     "metadata": {},
     "output_type": "execute_result"
    },
    {
     "data": {
      "image/png": "[encoded data removed]",
      "text/plain": [
       "<matplotlib.figure.Figure at 0x1e40d7b1c50>"
      ]
     },
     "metadata": {},
     "output_type": "display_data"
    }
   ],
   "source": [
    "monthly_sales_external_norm.plot(\n",
    "    x = \"Month\", \n",
    "    y= [\"Volume_Sales\", \"Unemployment I\", \"Petrol_Price I\", \"Price of average pack, UAH\"],\n",
    "    figsize=(20,10)\n",
    ")"
   ]
  },
  {
   "cell_type": "markdown",
   "metadata": {},
   "source": [
    "## Graphic #5.1 - Sales and Unemployment (normalized)\n",
    "<p> There are no correlation between two metrics - we could see both month with high sales / high unemployment (March) and high sales / low unemployment (June). But on the other hands we could see, that on some month unemployment growth pairs with sales recession (June - July, September - October)."
   ]
  },
  {
   "cell_type": "code",
   "execution_count": 31,
   "metadata": {
    "collapsed": false
   },
   "outputs": [
    {
     "data": {
      "text/plain": [
       "<matplotlib.axes._subplots.AxesSubplot at 0x1e40e52f710>"
      ]
     },
     "execution_count": 31,
     "metadata": {},
     "output_type": "execute_result"
    },
    {
     "data": {
      "image/png": "[encoded data removed]",
      "text/plain": [
       "<matplotlib.figure.Figure at 0x1e4095599e8>"
      ]
     },
     "metadata": {},
     "output_type": "display_data"
    }
   ],
   "source": [
    "monthly_sales_external_norm.plot(\n",
    "    x = \"Month\", \n",
    "    y= [\"Volume_Sales\", \"Unemployment I\"],\n",
    "    figsize=(10,5)\n",
    ")"
   ]
  },
  {
   "cell_type": "markdown",
   "metadata": {},
   "source": [
    "# Part 2: Analyzing promotionals"
   ]
  },
  {
   "cell_type": "code",
   "execution_count": 32,
   "metadata": {
    "collapsed": false
   },
   "outputs": [
    {
     "name": "stdout",
     "output_type": "stream",
     "text": [
      "65345\n"
     ]
    }
   ],
   "source": [
    "#Extracting data for different activities\n",
    "#Loading data with POS\n",
    "activities_dir = \"activities/\"\n",
    "#There are 2 files with POS data\n",
    "activities_files = [\n",
    "    \"AVB BOOST_and_PFP_2014.xlsx\",\n",
    "    \"CIA_Hostess_data 2014.xlsx\",\n",
    "    \"CIA_SA_2014.xlsx\",\n",
    "    #\"POSM_movement.xlsx\", - it has some different structure\n",
    "    \"PPRP 2014.xlsx\",\n",
    "    \"RAP_data 2014.xlsx\",\n",
    "    \"TPOSM_2014_data.xlsx\"\n",
    "]                  \n",
    "\n",
    "act_int_columns = [\n",
    "    \"Brand_NAME\", \n",
    "    \"Touchpoint_Code\",\n",
    "    \"Start_Week OR Start_Month\",\n",
    "    \"End_Week OR End_Month\",\n",
    "    \"Measure\"\n",
    "]\n",
    "\n",
    "activities = []\n",
    "for activity_file in activities_files:\n",
    "    activity = pandas.read_excel(data_root + activities_dir + activity_file, header = 0)\n",
    "    activity = activity[act_int_columns]\n",
    "    print(activity.size)\n",
    "    activities.append(activity)"
   ]
  },
  {
   "cell_type": "code",
   "execution_count": 33,
   "metadata": {
    "collapsed": false
   },
   "outputs": [
    {
     "data": {
      "text/html": [
       "<div>\n",
       "<table border=\"1\" class=\"dataframe\">\n",
       "  <thead>\n",
       "    <tr style=\"text-align: right;\">\n",
       "      <th></th>\n",
       "      <th>Brand_NAME</th>\n",
       "      <th>Touchpoint_Code</th>\n",
       "      <th>Start_Week OR Start_Month</th>\n",
       "      <th>End_Week OR End_Month</th>\n",
       "      <th>Measure</th>\n",
       "    </tr>\n",
       "  </thead>\n",
       "  <tbody>\n",
       "    <tr>\n",
       "      <th>0</th>\n",
       "      <td>PMI_Portfolio</td>\n",
       "      <td>10000081</td>\n",
       "      <td>2014-05-22</td>\n",
       "      <td>2014-06-05</td>\n",
       "      <td>120</td>\n",
       "    </tr>\n",
       "  </tbody>\n",
       "</table>\n",
       "</div>"
      ],
      "text/plain": [
       "      Brand_NAME Touchpoint_Code Start_Week OR Start_Month  \\\n",
       "0  PMI_Portfolio        10000081                2014-05-22   \n",
       "\n",
       "  End_Week OR End_Month  Measure  \n",
       "0            2014-06-05      120  "
      ]
     },
     "execution_count": 33,
     "metadata": {},
     "output_type": "execute_result"
    }
   ],
   "source": [
    "activities = pandas.concat(activities)\n",
    "activities.head(1)"
   ]
  },
  {
   "cell_type": "code",
   "execution_count": 34,
   "metadata": {
    "collapsed": false
   },
   "outputs": [
    {
     "data": {
      "text/plain": [
       "65345"
      ]
     },
     "execution_count": 34,
     "metadata": {},
     "output_type": "execute_result"
    }
   ],
   "source": [
    "activities.size"
   ]
  },
  {
   "cell_type": "code",
   "execution_count": 35,
   "metadata": {
    "collapsed": false
   },
   "outputs": [
    {
     "data": {
      "text/plain": [
       "Brand_NAME                   object\n",
       "Touchpoint_Code              object\n",
       "Start_Week OR Start_Month    object\n",
       "End_Week OR End_Month        object\n",
       "Measure                       int64\n",
       "dtype: object"
      ]
     },
     "execution_count": 35,
     "metadata": {},
     "output_type": "execute_result"
    }
   ],
   "source": [
    "activities.dtypes"
   ]
  },
  {
   "cell_type": "code",
   "execution_count": 36,
   "metadata": {
    "collapsed": true
   },
   "outputs": [],
   "source": [
    "# We need somehow to split week range into separate weeks and divide total measure by weeks count. \n",
    "# But for sake of simplicity let's use start_week as week"
   ]
  },
  {
   "cell_type": "code",
   "execution_count": 37,
   "metadata": {
    "collapsed": false
   },
   "outputs": [
    {
     "ename": "MemoryError",
     "evalue": "",
     "output_type": "error",
     "traceback": [
      "\u001b[1;31m---------------------------------------------------------------------------\u001b[0m",
      "\u001b[1;31mMemoryError\u001b[0m                               Traceback (most recent call last)",
      "\u001b[1;32m<ipython-input-37-38cea0ee6115>\u001b[0m in \u001b[0;36m<module>\u001b[1;34m()\u001b[0m\n\u001b[0;32m      1\u001b[0m \u001b[1;31m#Merge sales with activities\u001b[0m\u001b[1;33m\u001b[0m\u001b[1;33m\u001b[0m\u001b[0m\n\u001b[0;32m      2\u001b[0m sales_and_activities = pandas.merge(sales, activities, \n\u001b[1;32m----> 3\u001b[1;33m                               left_on=\"Week\", right_on=\"Start_Week OR Start_Month\", how='left')\n\u001b[0m\u001b[0;32m      4\u001b[0m \u001b[0msales_and_activities\u001b[0m\u001b[1;33m.\u001b[0m\u001b[0mhead\u001b[0m\u001b[1;33m(\u001b[0m\u001b[1;36m1\u001b[0m\u001b[1;33m)\u001b[0m\u001b[1;33m\u001b[0m\u001b[0m\n",
      "\u001b[1;32mD:\\Program Files\\anaconda\\lib\\site-packages\\pandas\\tools\\merge.py\u001b[0m in \u001b[0;36mmerge\u001b[1;34m(left, right, how, on, left_on, right_on, left_index, right_index, sort, suffixes, copy, indicator)\u001b[0m\n\u001b[0;32m     37\u001b[0m                          \u001b[0mright_index\u001b[0m\u001b[1;33m=\u001b[0m\u001b[0mright_index\u001b[0m\u001b[1;33m,\u001b[0m \u001b[0msort\u001b[0m\u001b[1;33m=\u001b[0m\u001b[0msort\u001b[0m\u001b[1;33m,\u001b[0m \u001b[0msuffixes\u001b[0m\u001b[1;33m=\u001b[0m\u001b[0msuffixes\u001b[0m\u001b[1;33m,\u001b[0m\u001b[1;33m\u001b[0m\u001b[0m\n\u001b[0;32m     38\u001b[0m                          copy=copy, indicator=indicator)\n\u001b[1;32m---> 39\u001b[1;33m     \u001b[1;32mreturn\u001b[0m \u001b[0mop\u001b[0m\u001b[1;33m.\u001b[0m\u001b[0mget_result\u001b[0m\u001b[1;33m(\u001b[0m\u001b[1;33m)\u001b[0m\u001b[1;33m\u001b[0m\u001b[0m\n\u001b[0m\u001b[0;32m     40\u001b[0m \u001b[1;32mif\u001b[0m \u001b[0m__debug__\u001b[0m\u001b[1;33m:\u001b[0m\u001b[1;33m\u001b[0m\u001b[0m\n\u001b[0;32m     41\u001b[0m     \u001b[0mmerge\u001b[0m\u001b[1;33m.\u001b[0m\u001b[0m__doc__\u001b[0m \u001b[1;33m=\u001b[0m \u001b[0m_merge_doc\u001b[0m \u001b[1;33m%\u001b[0m \u001b[1;34m'\\nleft : DataFrame'\u001b[0m\u001b[1;33m\u001b[0m\u001b[0m\n",
      "\u001b[1;32mD:\\Program Files\\anaconda\\lib\\site-packages\\pandas\\tools\\merge.py\u001b[0m in \u001b[0;36mget_result\u001b[1;34m(self)\u001b[0m\n\u001b[0;32m    215\u001b[0m                 self.left, self.right)\n\u001b[0;32m    216\u001b[0m \u001b[1;33m\u001b[0m\u001b[0m\n\u001b[1;32m--> 217\u001b[1;33m         \u001b[0mjoin_index\u001b[0m\u001b[1;33m,\u001b[0m \u001b[0mleft_indexer\u001b[0m\u001b[1;33m,\u001b[0m \u001b[0mright_indexer\u001b[0m \u001b[1;33m=\u001b[0m \u001b[0mself\u001b[0m\u001b[1;33m.\u001b[0m\u001b[0m_get_join_info\u001b[0m\u001b[1;33m(\u001b[0m\u001b[1;33m)\u001b[0m\u001b[1;33m\u001b[0m\u001b[0m\n\u001b[0m\u001b[0;32m    218\u001b[0m \u001b[1;33m\u001b[0m\u001b[0m\n\u001b[0;32m    219\u001b[0m         \u001b[0mldata\u001b[0m\u001b[1;33m,\u001b[0m \u001b[0mrdata\u001b[0m \u001b[1;33m=\u001b[0m \u001b[0mself\u001b[0m\u001b[1;33m.\u001b[0m\u001b[0mleft\u001b[0m\u001b[1;33m.\u001b[0m\u001b[0m_data\u001b[0m\u001b[1;33m,\u001b[0m \u001b[0mself\u001b[0m\u001b[1;33m.\u001b[0m\u001b[0mright\u001b[0m\u001b[1;33m.\u001b[0m\u001b[0m_data\u001b[0m\u001b[1;33m\u001b[0m\u001b[0m\n",
      "\u001b[1;32mD:\\Program Files\\anaconda\\lib\\site-packages\\pandas\\tools\\merge.py\u001b[0m in \u001b[0;36m_get_join_info\u001b[1;34m(self)\u001b[0m\n\u001b[0;32m    351\u001b[0m              \u001b[0mright_indexer\u001b[0m\u001b[1;33m)\u001b[0m \u001b[1;33m=\u001b[0m \u001b[0m_get_join_indexers\u001b[0m\u001b[1;33m(\u001b[0m\u001b[0mself\u001b[0m\u001b[1;33m.\u001b[0m\u001b[0mleft_join_keys\u001b[0m\u001b[1;33m,\u001b[0m\u001b[1;33m\u001b[0m\u001b[0m\n\u001b[0;32m    352\u001b[0m                                                  \u001b[0mself\u001b[0m\u001b[1;33m.\u001b[0m\u001b[0mright_join_keys\u001b[0m\u001b[1;33m,\u001b[0m\u001b[1;33m\u001b[0m\u001b[0m\n\u001b[1;32m--> 353\u001b[1;33m                                                  sort=self.sort, how=self.how)\n\u001b[0m\u001b[0;32m    354\u001b[0m             \u001b[1;32mif\u001b[0m \u001b[0mself\u001b[0m\u001b[1;33m.\u001b[0m\u001b[0mright_index\u001b[0m\u001b[1;33m:\u001b[0m\u001b[1;33m\u001b[0m\u001b[0m\n\u001b[0;32m    355\u001b[0m                 \u001b[1;32mif\u001b[0m \u001b[0mlen\u001b[0m\u001b[1;33m(\u001b[0m\u001b[0mself\u001b[0m\u001b[1;33m.\u001b[0m\u001b[0mleft\u001b[0m\u001b[1;33m)\u001b[0m \u001b[1;33m>\u001b[0m \u001b[1;36m0\u001b[0m\u001b[1;33m:\u001b[0m\u001b[1;33m\u001b[0m\u001b[0m\n",
      "\u001b[1;32mD:\\Program Files\\anaconda\\lib\\site-packages\\pandas\\tools\\merge.py\u001b[0m in \u001b[0;36m_get_join_indexers\u001b[1;34m(left_keys, right_keys, sort, how)\u001b[0m\n\u001b[0;32m    557\u001b[0m     \u001b[0mkwargs\u001b[0m \u001b[1;33m=\u001b[0m \u001b[1;33m{\u001b[0m\u001b[1;34m'sort'\u001b[0m\u001b[1;33m:\u001b[0m \u001b[0msort\u001b[0m\u001b[1;33m}\u001b[0m \u001b[1;32mif\u001b[0m \u001b[0mhow\u001b[0m \u001b[1;33m==\u001b[0m \u001b[1;34m'left'\u001b[0m \u001b[1;32melse\u001b[0m \u001b[1;33m{\u001b[0m\u001b[1;33m}\u001b[0m\u001b[1;33m\u001b[0m\u001b[0m\n\u001b[0;32m    558\u001b[0m     \u001b[0mjoin_func\u001b[0m \u001b[1;33m=\u001b[0m \u001b[0m_join_functions\u001b[0m\u001b[1;33m[\u001b[0m\u001b[0mhow\u001b[0m\u001b[1;33m]\u001b[0m\u001b[1;33m\u001b[0m\u001b[0m\n\u001b[1;32m--> 559\u001b[1;33m     \u001b[1;32mreturn\u001b[0m \u001b[0mjoin_func\u001b[0m\u001b[1;33m(\u001b[0m\u001b[0mlkey\u001b[0m\u001b[1;33m,\u001b[0m \u001b[0mrkey\u001b[0m\u001b[1;33m,\u001b[0m \u001b[0mcount\u001b[0m\u001b[1;33m,\u001b[0m \u001b[1;33m**\u001b[0m\u001b[0mkwargs\u001b[0m\u001b[1;33m)\u001b[0m\u001b[1;33m\u001b[0m\u001b[0m\n\u001b[0m\u001b[0;32m    560\u001b[0m \u001b[1;33m\u001b[0m\u001b[0m\n\u001b[0;32m    561\u001b[0m \u001b[1;33m\u001b[0m\u001b[0m\n",
      "\u001b[1;32mpandas\\src\\join.pyx\u001b[0m in \u001b[0;36mpandas.algos.left_outer_join (pandas\\algos.c:59942)\u001b[1;34m()\u001b[0m\n",
      "\u001b[1;32mpandas\\src\\join.pyx\u001b[0m in \u001b[0;36mpandas.algos._get_result_indexer (pandas\\algos.c:61978)\u001b[1;34m()\u001b[0m\n",
      "\u001b[1;31mMemoryError\u001b[0m: "
     ]
    }
   ],
   "source": [
    "#Merge sales with activities\n",
    "sales_and_activities = pandas.merge(sales, activities, \n",
    "                              left_on=\"Week\", right_on=\"Start_Week OR Start_Month\", how='left')\n",
    "sales_and_activities.head(1)"
   ]
  }
 ],
 "metadata": {
  "anaconda-cloud": {},
  "kernelspec": {
   "display_name": "Python [Root]",
   "language": "python",
   "name": "Python [Root]"
  },
  "language_info": {
   "codemirror_mode": {
    "name": "ipython",
    "version": 3
   },
   "file_extension": ".py",
   "mimetype": "text/x-python",
   "name": "python",
   "nbconvert_exporter": "python",
   "pygments_lexer": "ipython3",
   "version": "3.5.2"
  }
 },
 "nbformat": 4,
 "nbformat_minor": 0
}
